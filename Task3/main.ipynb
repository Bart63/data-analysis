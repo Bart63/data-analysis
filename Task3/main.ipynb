{
 "cells": [
  {
   "cell_type": "code",
   "execution_count": 696,
   "metadata": {},
   "outputs": [],
   "source": [
    "#Bartosz;Durys;229869;zad3"
   ]
  },
  {
   "cell_type": "code",
   "execution_count": 697,
   "metadata": {},
   "outputs": [],
   "source": [
    "import numpy as np\n",
    "from matplotlib import pyplot as plt"
   ]
  },
  {
   "cell_type": "code",
   "execution_count": 698,
   "metadata": {},
   "outputs": [],
   "source": [
    "def sigmoid(x, deriv=False):\n",
    "    if(deriv==True):\n",
    "        return (sigmoid(x)*(1-sigmoid(x)))\n",
    "    return 1/(1 + np.exp(-x))"
   ]
  },
  {
   "cell_type": "code",
   "execution_count": 699,
   "metadata": {},
   "outputs": [],
   "source": [
    "data_in = np.array([\n",
    "    [0,0],\n",
    "    [0,1],\n",
    "    [1,0],\n",
    "    [1,1]\n",
    "])"
   ]
  },
  {
   "cell_type": "code",
   "execution_count": 711,
   "metadata": {},
   "outputs": [],
   "source": [
    "data_out = np.array([\n",
    "    [0,0,0],\n",
    "    [1,0,1],\n",
    "    [1,0,1],\n",
    "    [1,1,0]\n",
    "])"
   ]
  },
  {
   "cell_type": "code",
   "execution_count": 760,
   "metadata": {},
   "outputs": [],
   "source": [
    "input_len = data_in.shape[0]\n",
    "input_neu = data_in.shape[1]\n",
    "hidden_neu = 2\n",
    "output_neu = data_out.shape[1]"
   ]
  },
  {
   "cell_type": "code",
   "execution_count": 761,
   "metadata": {},
   "outputs": [],
   "source": [
    "# x-inputów -> y-neuronów_ukrytych -> z-wyjść"
   ]
  },
  {
   "cell_type": "code",
   "execution_count": 771,
   "metadata": {},
   "outputs": [],
   "source": [
    "mul_w = 3"
   ]
  },
  {
   "cell_type": "code",
   "execution_count": 772,
   "metadata": {},
   "outputs": [],
   "source": [
    "MSE_arr = []"
   ]
  },
  {
   "cell_type": "code",
   "execution_count": 773,
   "metadata": {},
   "outputs": [],
   "source": [
    "hidden_w = np.random.rand(input_neu, hidden_neu) * mul_w\n",
    "hidden_b = np.zeros((input_len, hidden_neu))"
   ]
  },
  {
   "cell_type": "code",
   "execution_count": 774,
   "metadata": {},
   "outputs": [],
   "source": [
    "out_w = np.random.rand(hidden_neu, output_neu) * mul_w\n",
    "out_b = np.zeros((input_len, output_neu))"
   ]
  },
  {
   "cell_type": "code",
   "execution_count": 775,
   "metadata": {},
   "outputs": [],
   "source": [
    "with_bias = False"
   ]
  },
  {
   "cell_type": "code",
   "execution_count": 776,
   "metadata": {},
   "outputs": [],
   "source": [
    "learn_r = 1"
   ]
  },
  {
   "cell_type": "code",
   "execution_count": 777,
   "metadata": {},
   "outputs": [],
   "source": [
    "generations = 1000"
   ]
  },
  {
   "cell_type": "code",
   "execution_count": null,
   "metadata": {},
   "outputs": [],
   "source": [
    "for i in range(generations):\n",
    "    #Middle layer\n",
    "    hidden_lin = np.dot(data_in, hidden_w) \n",
    "    if with_bias: hidden_lin += hidden_b\n",
    "    hidden_sig = sigmoid(hidden_lin)\n",
    "\n",
    "    #Output layer\n",
    "    out_lin = np.dot(hidden_sig, out_w) \n",
    "    if with_bias: out_lin += out_b\n",
    "    out_sig = sigmoid(out_lin)\n",
    "\n",
    "    #Difference\n",
    "    diff = out_sig - data_out    \n",
    "\n",
    "    #Medium Square Error\n",
    "    MSE = ((1 / 2) * (np.power(diff, 2)))\n",
    "    MSE_mean = MSE.mean()\n",
    "    print(str(i) + \" : \" + str(MSE_mean))\n",
    "    MSE_arr.append(MSE_mean)\n",
    "\n",
    "    #Pochodna kosztu po out_sig\n",
    "    dcost_dos = diff\n",
    "    \n",
    "    #Odpowiednie pochodne na ostatniej wartswie\n",
    "    dos_dol = sigmoid(out_lin, True) \n",
    "    dol_dow = hidden_sig\n",
    "    dol_dbo = 1\n",
    "\n",
    "    #Otrzymanie kosztu po wagach i biasie dla warstwy ostatniej\n",
    "    dcost_wo = np.dot(dol_dow.T, dcost_dos * dos_dol)\n",
    "    if with_bias: dcost_bo = np.dot(dol_dbo, dcost_dos * dos_dol)\n",
    "\n",
    "    #Obliczanie kosztów w warstwie ukrytej\n",
    "    dcost_dol = dcost_dos * dos_dol\n",
    "    dol_dhs = out_w\n",
    "    dcost_dhs = np.dot(dcost_dol , dol_dhs.T)\n",
    "    dhs_dhz = sigmoid(hidden_lin, True) \n",
    "    dhz_dhw = data_in\n",
    "    if with_bias: dhz_dhb = 1\n",
    "    \n",
    "    #Otrzymanie kosztu po wagach i biasie dla środkowej warstwy (hidden)\n",
    "    dcost_hw = np.dot(dhz_dhw.T, dhs_dhz * dcost_dhs)\n",
    "    if with_bias: dcost_hb = np.dot(dhz_dhb, dhs_dhz * dcost_dhs)\n",
    "    \n",
    "    #Aktualizacja wag i biasów\n",
    "    out_w -= learn_r * dcost_wo\n",
    "    if with_bias: out_b -= learn_r * dcost_bo\n",
    "    hidden_w -= learn_r * dcost_hw\n",
    "    if with_bias: hidden_b -= learn_r * dcost_hb"
   ]
  },
  {
   "cell_type": "code",
   "execution_count": null,
   "metadata": {},
   "outputs": [],
   "source": [
    "plt.plot(MSE_arr)"
   ]
  },
  {
   "cell_type": "code",
   "execution_count": null,
   "metadata": {},
   "outputs": [],
   "source": []
  }
 ],
 "metadata": {
  "kernelspec": {
   "display_name": "Python 3",
   "language": "python",
   "name": "python3"
  },
  "language_info": {
   "codemirror_mode": {
    "name": "ipython",
    "version": 3
   },
   "file_extension": ".py",
   "mimetype": "text/x-python",
   "name": "python",
   "nbconvert_exporter": "python",
   "pygments_lexer": "ipython3",
   "version": "3.8.3"
  }
 },
 "nbformat": 4,
 "nbformat_minor": 4
}
