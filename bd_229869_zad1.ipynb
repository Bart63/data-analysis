{
 "cells": [
  {
   "cell_type": "code",
   "execution_count": 1,
   "metadata": {},
   "outputs": [],
   "source": [
    "#Author:\n",
    "#Name;Surname;Number;\n",
    "#Bartosz;Durys;229869;"
   ]
  },
  {
   "cell_type": "code",
   "execution_count": 2,
   "metadata": {},
   "outputs": [],
   "source": [
    "import pandas as pd"
   ]
  },
  {
   "cell_type": "code",
   "execution_count": 3,
   "metadata": {},
   "outputs": [],
   "source": [
    "#Liczebność całkowita gatunków:\n",
    "def getCount(arr):\n",
    "    return arr[\"species\"].count()"
   ]
  },
  {
   "cell_type": "code",
   "execution_count": 4,
   "metadata": {},
   "outputs": [],
   "source": [
    "#Liczebność danego gatunku:\n",
    "def getSpeciesCount(arr, index):\n",
    "    return ((arr[(arr[\"species\"]) == index])[\"species\"]).count()"
   ]
  },
  {
   "cell_type": "code",
   "execution_count": 5,
   "metadata": {},
   "outputs": [],
   "source": [
    "#Udział procentowy danego gatunku:\n",
    "def getSpeciesPercentage(arr, speciesCount, count):\n",
    "    return (speciesCount/count) * 100"
   ]
  },
  {
   "cell_type": "code",
   "execution_count": 6,
   "metadata": {},
   "outputs": [],
   "source": [
    "#Wartość maksymalna:\n",
    "def getMax(arr, name):\n",
    "    return arr[name].max()"
   ]
  },
  {
   "cell_type": "code",
   "execution_count": 7,
   "metadata": {},
   "outputs": [],
   "source": [
    "#Wartość minimalna:\n",
    "def getMin(arr, name):\n",
    "    return arr[name].min()"
   ]
  },
  {
   "cell_type": "code",
   "execution_count": 8,
   "metadata": {},
   "outputs": [],
   "source": [
    "#Wartość średnia:\n",
    "def getMean(arr, name):\n",
    "    return arr[name].mean()"
   ]
  },
  {
   "cell_type": "code",
   "execution_count": 9,
   "metadata": {},
   "outputs": [],
   "source": [
    "#Odchylenie standardowe dla próby: \n",
    "def getStandardDeviation(arr, name):\n",
    "    arr = arr[name]\n",
    "    s = 0;\n",
    "    avg = arr.mean()\n",
    "    for el in arr:\n",
    "        s += (el - avg) ** 2\n",
    "    res = (s / (len(arr)-1)) ** (0.5)\n",
    "    return res"
   ]
  },
  {
   "cell_type": "code",
   "execution_count": 10,
   "metadata": {},
   "outputs": [],
   "source": [
    "#Kwantyle:\n",
    "def getQuantile(arr, name, val):\n",
    "    return arr[name].quantile(val)"
   ]
  },
  {
   "cell_type": "code",
   "execution_count": 11,
   "metadata": {},
   "outputs": [],
   "source": [
    "speciesList = [\"setosa\", \"versicolor\", \"virginica\"]\n",
    "columnNames =[\"sepal_length\", \"sepal_width\", \"petal_length\", \"petal_width\", \"species\"]\n",
    "irisArr = pd.read_csv(\"data.csv\", names = columnNames)"
   ]
  },
  {
   "cell_type": "code",
   "execution_count": 12,
   "metadata": {},
   "outputs": [
    {
     "data": {
      "text/html": [
       "<div>\n",
       "<style scoped>\n",
       "    .dataframe tbody tr th:only-of-type {\n",
       "        vertical-align: middle;\n",
       "    }\n",
       "\n",
       "    .dataframe tbody tr th {\n",
       "        vertical-align: top;\n",
       "    }\n",
       "\n",
       "    .dataframe thead th {\n",
       "        text-align: right;\n",
       "    }\n",
       "</style>\n",
       "<table border=\"1\" class=\"dataframe\">\n",
       "  <thead>\n",
       "    <tr style=\"text-align: right;\">\n",
       "      <th></th>\n",
       "      <th>sepal_length</th>\n",
       "      <th>sepal_width</th>\n",
       "      <th>petal_length</th>\n",
       "      <th>petal_width</th>\n",
       "      <th>species</th>\n",
       "    </tr>\n",
       "  </thead>\n",
       "  <tbody>\n",
       "    <tr>\n",
       "      <th>0</th>\n",
       "      <td>5.1</td>\n",
       "      <td>3.5</td>\n",
       "      <td>1.4</td>\n",
       "      <td>0.2</td>\n",
       "      <td>0</td>\n",
       "    </tr>\n",
       "    <tr>\n",
       "      <th>1</th>\n",
       "      <td>4.9</td>\n",
       "      <td>3.0</td>\n",
       "      <td>1.4</td>\n",
       "      <td>0.2</td>\n",
       "      <td>0</td>\n",
       "    </tr>\n",
       "    <tr>\n",
       "      <th>2</th>\n",
       "      <td>4.7</td>\n",
       "      <td>3.2</td>\n",
       "      <td>1.3</td>\n",
       "      <td>0.2</td>\n",
       "      <td>0</td>\n",
       "    </tr>\n",
       "    <tr>\n",
       "      <th>3</th>\n",
       "      <td>4.6</td>\n",
       "      <td>3.1</td>\n",
       "      <td>1.5</td>\n",
       "      <td>0.2</td>\n",
       "      <td>0</td>\n",
       "    </tr>\n",
       "    <tr>\n",
       "      <th>4</th>\n",
       "      <td>5.0</td>\n",
       "      <td>3.6</td>\n",
       "      <td>1.4</td>\n",
       "      <td>0.2</td>\n",
       "      <td>0</td>\n",
       "    </tr>\n",
       "    <tr>\n",
       "      <th>...</th>\n",
       "      <td>...</td>\n",
       "      <td>...</td>\n",
       "      <td>...</td>\n",
       "      <td>...</td>\n",
       "      <td>...</td>\n",
       "    </tr>\n",
       "    <tr>\n",
       "      <th>145</th>\n",
       "      <td>6.7</td>\n",
       "      <td>3.0</td>\n",
       "      <td>5.2</td>\n",
       "      <td>2.3</td>\n",
       "      <td>2</td>\n",
       "    </tr>\n",
       "    <tr>\n",
       "      <th>146</th>\n",
       "      <td>6.3</td>\n",
       "      <td>2.5</td>\n",
       "      <td>5.0</td>\n",
       "      <td>1.9</td>\n",
       "      <td>2</td>\n",
       "    </tr>\n",
       "    <tr>\n",
       "      <th>147</th>\n",
       "      <td>6.5</td>\n",
       "      <td>3.0</td>\n",
       "      <td>5.2</td>\n",
       "      <td>2.0</td>\n",
       "      <td>2</td>\n",
       "    </tr>\n",
       "    <tr>\n",
       "      <th>148</th>\n",
       "      <td>6.2</td>\n",
       "      <td>3.4</td>\n",
       "      <td>5.4</td>\n",
       "      <td>2.3</td>\n",
       "      <td>2</td>\n",
       "    </tr>\n",
       "    <tr>\n",
       "      <th>149</th>\n",
       "      <td>5.9</td>\n",
       "      <td>3.0</td>\n",
       "      <td>5.1</td>\n",
       "      <td>1.8</td>\n",
       "      <td>2</td>\n",
       "    </tr>\n",
       "  </tbody>\n",
       "</table>\n",
       "<p>150 rows × 5 columns</p>\n",
       "</div>"
      ],
      "text/plain": [
       "     sepal_length  sepal_width  petal_length  petal_width  species\n",
       "0             5.1          3.5           1.4          0.2        0\n",
       "1             4.9          3.0           1.4          0.2        0\n",
       "2             4.7          3.2           1.3          0.2        0\n",
       "3             4.6          3.1           1.5          0.2        0\n",
       "4             5.0          3.6           1.4          0.2        0\n",
       "..            ...          ...           ...          ...      ...\n",
       "145           6.7          3.0           5.2          2.3        2\n",
       "146           6.3          2.5           5.0          1.9        2\n",
       "147           6.5          3.0           5.2          2.0        2\n",
       "148           6.2          3.4           5.4          2.3        2\n",
       "149           5.9          3.0           5.1          1.8        2\n",
       "\n",
       "[150 rows x 5 columns]"
      ]
     },
     "execution_count": 12,
     "metadata": {},
     "output_type": "execute_result"
    }
   ],
   "source": [
    "irisArr"
   ]
  },
  {
   "cell_type": "code",
   "execution_count": 13,
   "metadata": {},
   "outputs": [],
   "source": [
    "#Liczebność wszystkich irysów:\n",
    "irisCount = getCount(irisArr)"
   ]
  },
  {
   "cell_type": "code",
   "execution_count": 14,
   "metadata": {},
   "outputs": [
    {
     "data": {
      "text/plain": [
       "150"
      ]
     },
     "execution_count": 14,
     "metadata": {},
     "output_type": "execute_result"
    }
   ],
   "source": [
    "irisCount"
   ]
  },
  {
   "cell_type": "code",
   "execution_count": 15,
   "metadata": {},
   "outputs": [],
   "source": [
    "#Liczebność poszczególnych gatunków:\n",
    "countList = []\n",
    "for i in range(3):\n",
    "     countList.append(getSpeciesCount(irisArr, i))"
   ]
  },
  {
   "cell_type": "code",
   "execution_count": 16,
   "metadata": {},
   "outputs": [
    {
     "data": {
      "text/plain": [
       "[50, 50, 50]"
      ]
     },
     "execution_count": 16,
     "metadata": {},
     "output_type": "execute_result"
    }
   ],
   "source": [
    "countList"
   ]
  },
  {
   "cell_type": "code",
   "execution_count": 17,
   "metadata": {},
   "outputs": [],
   "source": [
    "#Udziały procentowe poszcególnych gatunków:\n",
    "percList = []\n",
    "for count in countList:\n",
    "     percList.append(getSpeciesPercentage(irisArr, count, irisCount))"
   ]
  },
  {
   "cell_type": "code",
   "execution_count": 18,
   "metadata": {},
   "outputs": [
    {
     "data": {
      "text/plain": [
       "[33.33333333333333, 33.33333333333333, 33.33333333333333]"
      ]
     },
     "execution_count": 18,
     "metadata": {},
     "output_type": "execute_result"
    }
   ],
   "source": [
    "percList"
   ]
  },
  {
   "cell_type": "code",
   "execution_count": 19,
   "metadata": {},
   "outputs": [],
   "source": [
    "#Wyświetlenie liczby i udziału procentowego DataFrame:     \n",
    "countPercColumn=[]\n",
    "for c, p in zip(countList, percList):\n",
    "    countPercColumn.append(str(c) + \" (\" + str(format(p,'.1f')).replace(\".\",\",\") + \"%)\")"
   ]
  },
  {
   "cell_type": "code",
   "execution_count": 20,
   "metadata": {},
   "outputs": [
    {
     "data": {
      "text/plain": [
       "['50 (33,3%)', '50 (33,3%)', '50 (33,3%)']"
      ]
     },
     "execution_count": 20,
     "metadata": {},
     "output_type": "execute_result"
    }
   ],
   "source": [
    "countPercColumn"
   ]
  },
  {
   "cell_type": "code",
   "execution_count": 21,
   "metadata": {},
   "outputs": [],
   "source": [
    "countPercColumn.append(str(sum(countList)) + \" (\" + format(sum(percList),'.1f').replace(\".\",\",\") + \"%)\")"
   ]
  },
  {
   "cell_type": "code",
   "execution_count": 22,
   "metadata": {},
   "outputs": [
    {
     "data": {
      "text/plain": [
       "['50 (33,3%)', '50 (33,3%)', '50 (33,3%)', '150 (100,0%)']"
      ]
     },
     "execution_count": 22,
     "metadata": {},
     "output_type": "execute_result"
    }
   ],
   "source": [
    "countPercColumn"
   ]
  },
  {
   "cell_type": "code",
   "execution_count": 23,
   "metadata": {},
   "outputs": [],
   "source": [
    "speciesColumn = speciesList + [\"Razem\"]\n",
    "countDataFrame = pd.DataFrame({\"Liczebność (%)\":countPercColumn}, index=speciesColumn)\n",
    "countDataFrame.columns.name = \"Gatunek\""
   ]
  },
  {
   "cell_type": "code",
   "execution_count": 24,
   "metadata": {},
   "outputs": [
    {
     "data": {
      "text/html": [
       "<div>\n",
       "<style scoped>\n",
       "    .dataframe tbody tr th:only-of-type {\n",
       "        vertical-align: middle;\n",
       "    }\n",
       "\n",
       "    .dataframe tbody tr th {\n",
       "        vertical-align: top;\n",
       "    }\n",
       "\n",
       "    .dataframe thead th {\n",
       "        text-align: right;\n",
       "    }\n",
       "</style>\n",
       "<table border=\"1\" class=\"dataframe\">\n",
       "  <thead>\n",
       "    <tr style=\"text-align: right;\">\n",
       "      <th>Gatunek</th>\n",
       "      <th>Liczebność (%)</th>\n",
       "    </tr>\n",
       "  </thead>\n",
       "  <tbody>\n",
       "    <tr>\n",
       "      <th>setosa</th>\n",
       "      <td>50 (33,3%)</td>\n",
       "    </tr>\n",
       "    <tr>\n",
       "      <th>versicolor</th>\n",
       "      <td>50 (33,3%)</td>\n",
       "    </tr>\n",
       "    <tr>\n",
       "      <th>virginica</th>\n",
       "      <td>50 (33,3%)</td>\n",
       "    </tr>\n",
       "    <tr>\n",
       "      <th>Razem</th>\n",
       "      <td>150 (100,0%)</td>\n",
       "    </tr>\n",
       "  </tbody>\n",
       "</table>\n",
       "</div>"
      ],
      "text/plain": [
       "Gatunek    Liczebność (%)\n",
       "setosa         50 (33,3%)\n",
       "versicolor     50 (33,3%)\n",
       "virginica      50 (33,3%)\n",
       "Razem        150 (100,0%)"
      ]
     },
     "execution_count": 24,
     "metadata": {},
     "output_type": "execute_result"
    }
   ],
   "source": [
    "countDataFrame"
   ]
  },
  {
   "cell_type": "code",
   "execution_count": 25,
   "metadata": {},
   "outputs": [],
   "source": [
    "#Style do DataFrame\n",
    "lastTopBorderStyle = dict(selector=\"tr:last-child\", props=[(\"border-top-style\", \"solid\")])\n",
    "textThStyle = dict(selector=\"th\", props=[(\"text-align\", \"left\"),(\"border-width\", \"1px\"),(\"border-style\", \"solid\")])\n",
    "textTdStyle = dict(selector=\"td\", props=[(\"border-width\", \"1px\"), (\"border-style\", \"solid\")])\n",
    "textTdStyleCenter = dict(selector=\"td\", props=[(\"text-align\", \"center\")])\n",
    "borderStyle = dict(selector=\"tbody, thead\", props=[(\"border-style\", \"solid\"), (\"border-width\", \"2px\")])"
   ]
  },
  {
   "cell_type": "code",
   "execution_count": 26,
   "metadata": {},
   "outputs": [],
   "source": [
    "stylesForCountDataFrame = [\n",
    "    lastTopBorderStyle,\n",
    "    textThStyle,\n",
    "    textTdStyle,\n",
    "    borderStyle\n",
    "]"
   ]
  },
  {
   "cell_type": "code",
   "execution_count": 27,
   "metadata": {},
   "outputs": [],
   "source": [
    "countDataFrameStyled = countDataFrame.style.set_table_styles(stylesForCountDataFrame)"
   ]
  },
  {
   "cell_type": "code",
   "execution_count": 28,
   "metadata": {},
   "outputs": [
    {
     "data": {
      "text/html": [
       "<style  type=\"text/css\" >\n",
       "    #T_f4277b20_2322_11eb_b109_f0038c37d4d6 tr:last-child {\n",
       "          border-top-style: solid;\n",
       "    }    #T_f4277b20_2322_11eb_b109_f0038c37d4d6 th {\n",
       "          text-align: left;\n",
       "          border-width: 1px;\n",
       "          border-style: solid;\n",
       "    }    #T_f4277b20_2322_11eb_b109_f0038c37d4d6 td {\n",
       "          border-width: 1px;\n",
       "          border-style: solid;\n",
       "    }    #T_f4277b20_2322_11eb_b109_f0038c37d4d6 tbody, thead {\n",
       "          border-style: solid;\n",
       "          border-width: 2px;\n",
       "    }</style><table id=\"T_f4277b20_2322_11eb_b109_f0038c37d4d6\" ><thead>    <tr>        <th class=\"index_name level0\" >Gatunek</th>        <th class=\"col_heading level0 col0\" >Liczebność (%)</th>    </tr></thead><tbody>\n",
       "                <tr>\n",
       "                        <th id=\"T_f4277b20_2322_11eb_b109_f0038c37d4d6level0_row0\" class=\"row_heading level0 row0\" >setosa</th>\n",
       "                        <td id=\"T_f4277b20_2322_11eb_b109_f0038c37d4d6row0_col0\" class=\"data row0 col0\" >50 (33,3%)</td>\n",
       "            </tr>\n",
       "            <tr>\n",
       "                        <th id=\"T_f4277b20_2322_11eb_b109_f0038c37d4d6level0_row1\" class=\"row_heading level0 row1\" >versicolor</th>\n",
       "                        <td id=\"T_f4277b20_2322_11eb_b109_f0038c37d4d6row1_col0\" class=\"data row1 col0\" >50 (33,3%)</td>\n",
       "            </tr>\n",
       "            <tr>\n",
       "                        <th id=\"T_f4277b20_2322_11eb_b109_f0038c37d4d6level0_row2\" class=\"row_heading level0 row2\" >virginica</th>\n",
       "                        <td id=\"T_f4277b20_2322_11eb_b109_f0038c37d4d6row2_col0\" class=\"data row2 col0\" >50 (33,3%)</td>\n",
       "            </tr>\n",
       "            <tr>\n",
       "                        <th id=\"T_f4277b20_2322_11eb_b109_f0038c37d4d6level0_row3\" class=\"row_heading level0 row3\" >Razem</th>\n",
       "                        <td id=\"T_f4277b20_2322_11eb_b109_f0038c37d4d6row3_col0\" class=\"data row3 col0\" >150 (100,0%)</td>\n",
       "            </tr>\n",
       "    </tbody></table>"
      ],
      "text/plain": [
       "<pandas.io.formats.style.Styler at 0x228a45552b0>"
      ]
     },
     "execution_count": 28,
     "metadata": {},
     "output_type": "execute_result"
    }
   ],
   "source": [
    "countDataFrameStyled"
   ]
  },
  {
   "cell_type": "code",
   "execution_count": 29,
   "metadata": {},
   "outputs": [],
   "source": [
    "#Wyświetlenie kolejnych atrybutów (długość/szerokość kielicha/płatka) DataFrame:\n",
    "minList = []\n",
    "meanList = []\n",
    "stanDevList = []\n",
    "quantile50List = []\n",
    "quantile25List = []\n",
    "quantile75List = []\n",
    "maxList = []"
   ]
  },
  {
   "cell_type": "code",
   "execution_count": 30,
   "metadata": {},
   "outputs": [],
   "source": [
    "for attribute in columnNames[0:4]:\n",
    "    minList.append(format(getMin(irisArr, attribute),'.1f').replace(\".\",\",\"))\n",
    "    meanList.append(format(getMean(irisArr, attribute),'.2f').replace(\".\",\",\"))\n",
    "    stanDevList.append(format(getStandardDeviation(irisArr, attribute),'.2f').replace(\".\",\",\"))\n",
    "    quantile50List.append(format(getQuantile(irisArr, attribute, 0.5),'.2f').replace(\".\",\",\"))\n",
    "    quantile25List.append(format(getQuantile(irisArr, attribute, 0.25),'.2f').replace(\".\",\",\"))\n",
    "    quantile75List.append(format(getQuantile(irisArr, attribute, 0.75),'.2f').replace(\".\",\",\"))\n",
    "    maxList.append(format(getMax(irisArr, attribute),'.1f').replace(\".\",\",\"))"
   ]
  },
  {
   "cell_type": "code",
   "execution_count": 31,
   "metadata": {},
   "outputs": [
    {
     "data": {
      "text/plain": [
       "['4,3', '2,0', '1,0', '0,1']"
      ]
     },
     "execution_count": 31,
     "metadata": {},
     "output_type": "execute_result"
    }
   ],
   "source": [
    "minList"
   ]
  },
  {
   "cell_type": "code",
   "execution_count": 32,
   "metadata": {},
   "outputs": [
    {
     "data": {
      "text/plain": [
       "['5,84', '3,06', '3,76', '1,20']"
      ]
     },
     "execution_count": 32,
     "metadata": {},
     "output_type": "execute_result"
    }
   ],
   "source": [
    "meanList"
   ]
  },
  {
   "cell_type": "code",
   "execution_count": 33,
   "metadata": {},
   "outputs": [
    {
     "data": {
      "text/plain": [
       "['0,83', '0,44', '1,77', '0,76']"
      ]
     },
     "execution_count": 33,
     "metadata": {},
     "output_type": "execute_result"
    }
   ],
   "source": [
    "stanDevList"
   ]
  },
  {
   "cell_type": "code",
   "execution_count": 34,
   "metadata": {},
   "outputs": [
    {
     "data": {
      "text/plain": [
       "['5,80', '3,00', '4,35', '1,30']"
      ]
     },
     "execution_count": 34,
     "metadata": {},
     "output_type": "execute_result"
    }
   ],
   "source": [
    "quantile50List"
   ]
  },
  {
   "cell_type": "code",
   "execution_count": 35,
   "metadata": {},
   "outputs": [
    {
     "data": {
      "text/plain": [
       "['5,10', '2,80', '1,60', '0,30']"
      ]
     },
     "execution_count": 35,
     "metadata": {},
     "output_type": "execute_result"
    }
   ],
   "source": [
    "quantile25List"
   ]
  },
  {
   "cell_type": "code",
   "execution_count": 36,
   "metadata": {},
   "outputs": [
    {
     "data": {
      "text/plain": [
       "['6,40', '3,30', '5,10', '1,80']"
      ]
     },
     "execution_count": 36,
     "metadata": {},
     "output_type": "execute_result"
    }
   ],
   "source": [
    "quantile75List"
   ]
  },
  {
   "cell_type": "code",
   "execution_count": 37,
   "metadata": {},
   "outputs": [
    {
     "data": {
      "text/plain": [
       "['7,9', '4,4', '6,9', '2,5']"
      ]
     },
     "execution_count": 37,
     "metadata": {},
     "output_type": "execute_result"
    }
   ],
   "source": [
    "maxList"
   ]
  },
  {
   "cell_type": "code",
   "execution_count": 38,
   "metadata": {},
   "outputs": [],
   "source": [
    "meanColumn=[]\n",
    "for m, s in zip(meanList, stanDevList):\n",
    "    meanColumn.append(m.replace(\".\",\",\") + \" (±\" + s.replace(\".\",\",\") + \")\")"
   ]
  },
  {
   "cell_type": "code",
   "execution_count": 39,
   "metadata": {},
   "outputs": [
    {
     "data": {
      "text/plain": [
       "['5,84 (±0,83)', '3,06 (±0,44)', '3,76 (±1,77)', '1,20 (±0,76)']"
      ]
     },
     "execution_count": 39,
     "metadata": {},
     "output_type": "execute_result"
    }
   ],
   "source": [
    "meanColumn"
   ]
  },
  {
   "cell_type": "code",
   "execution_count": 40,
   "metadata": {},
   "outputs": [],
   "source": [
    "quantileColumn=[]\n",
    "for q50, q25, q75 in zip(quantile50List, quantile25List, quantile75List):\n",
    "    quantileColumn.append(q50.replace(\".\",\",\") + \" (\" + q25.replace(\".\",\",\") +\" - \"+ q75.replace(\".\",\",\") + \")\")"
   ]
  },
  {
   "cell_type": "code",
   "execution_count": 41,
   "metadata": {},
   "outputs": [
    {
     "data": {
      "text/plain": [
       "['5,80 (5,10 - 6,40)',\n",
       " '3,00 (2,80 - 3,30)',\n",
       " '4,35 (1,60 - 5,10)',\n",
       " '1,30 (0,30 - 1,80)']"
      ]
     },
     "execution_count": 41,
     "metadata": {},
     "output_type": "execute_result"
    }
   ],
   "source": [
    "quantileColumn"
   ]
  },
  {
   "cell_type": "code",
   "execution_count": 42,
   "metadata": {},
   "outputs": [],
   "source": [
    "descColumn = [\"Długość działki kielicha (cm)\", \"Szerokość działki kielicha (cm)\", \"Długość płatka (cm)\", \n",
    "              \"Szerokość płatka (cm)\"]\n",
    "\n",
    "charactDataFrame = pd.DataFrame({\"Minimum\":minList,\"Śr. arytm. (± odch. stand.)\":meanColumn,\n",
    "                              \"Mediana (Q1 - Q3)\":quantileColumn,\"Maksimum\":maxList}, index=descColumn)\n",
    "\n",
    "charactDataFrame.columns.name = \"Cecha\""
   ]
  },
  {
   "cell_type": "code",
   "execution_count": 43,
   "metadata": {},
   "outputs": [
    {
     "data": {
      "text/html": [
       "<div>\n",
       "<style scoped>\n",
       "    .dataframe tbody tr th:only-of-type {\n",
       "        vertical-align: middle;\n",
       "    }\n",
       "\n",
       "    .dataframe tbody tr th {\n",
       "        vertical-align: top;\n",
       "    }\n",
       "\n",
       "    .dataframe thead th {\n",
       "        text-align: right;\n",
       "    }\n",
       "</style>\n",
       "<table border=\"1\" class=\"dataframe\">\n",
       "  <thead>\n",
       "    <tr style=\"text-align: right;\">\n",
       "      <th>Cecha</th>\n",
       "      <th>Minimum</th>\n",
       "      <th>Śr. arytm. (± odch. stand.)</th>\n",
       "      <th>Mediana (Q1 - Q3)</th>\n",
       "      <th>Maksimum</th>\n",
       "    </tr>\n",
       "  </thead>\n",
       "  <tbody>\n",
       "    <tr>\n",
       "      <th>Długość działki kielicha (cm)</th>\n",
       "      <td>4,3</td>\n",
       "      <td>5,84 (±0,83)</td>\n",
       "      <td>5,80 (5,10 - 6,40)</td>\n",
       "      <td>7,9</td>\n",
       "    </tr>\n",
       "    <tr>\n",
       "      <th>Szerokość działki kielicha (cm)</th>\n",
       "      <td>2,0</td>\n",
       "      <td>3,06 (±0,44)</td>\n",
       "      <td>3,00 (2,80 - 3,30)</td>\n",
       "      <td>4,4</td>\n",
       "    </tr>\n",
       "    <tr>\n",
       "      <th>Długość płatka (cm)</th>\n",
       "      <td>1,0</td>\n",
       "      <td>3,76 (±1,77)</td>\n",
       "      <td>4,35 (1,60 - 5,10)</td>\n",
       "      <td>6,9</td>\n",
       "    </tr>\n",
       "    <tr>\n",
       "      <th>Szerokość płatka (cm)</th>\n",
       "      <td>0,1</td>\n",
       "      <td>1,20 (±0,76)</td>\n",
       "      <td>1,30 (0,30 - 1,80)</td>\n",
       "      <td>2,5</td>\n",
       "    </tr>\n",
       "  </tbody>\n",
       "</table>\n",
       "</div>"
      ],
      "text/plain": [
       "Cecha                           Minimum Śr. arytm. (± odch. stand.)  \\\n",
       "Długość działki kielicha (cm)       4,3                5,84 (±0,83)   \n",
       "Szerokość działki kielicha (cm)     2,0                3,06 (±0,44)   \n",
       "Długość płatka (cm)                 1,0                3,76 (±1,77)   \n",
       "Szerokość płatka (cm)               0,1                1,20 (±0,76)   \n",
       "\n",
       "Cecha                             Mediana (Q1 - Q3) Maksimum  \n",
       "Długość działki kielicha (cm)    5,80 (5,10 - 6,40)      7,9  \n",
       "Szerokość działki kielicha (cm)  3,00 (2,80 - 3,30)      4,4  \n",
       "Długość płatka (cm)              4,35 (1,60 - 5,10)      6,9  \n",
       "Szerokość płatka (cm)            1,30 (0,30 - 1,80)      2,5  "
      ]
     },
     "execution_count": 43,
     "metadata": {},
     "output_type": "execute_result"
    }
   ],
   "source": [
    "charactDataFrame"
   ]
  },
  {
   "cell_type": "code",
   "execution_count": 44,
   "metadata": {},
   "outputs": [],
   "source": [
    "stylesForCharactDataFrame = [\n",
    "    textThStyle,\n",
    "    textTdStyle,\n",
    "    textTdStyleCenter,\n",
    "    borderStyle\n",
    "]"
   ]
  },
  {
   "cell_type": "code",
   "execution_count": 45,
   "metadata": {},
   "outputs": [],
   "source": [
    "charactDataFrameStyled = charactDataFrame.style.set_table_styles(stylesForCharactDataFrame)"
   ]
  },
  {
   "cell_type": "code",
   "execution_count": 46,
   "metadata": {},
   "outputs": [
    {
     "data": {
      "text/html": [
       "<style  type=\"text/css\" >\n",
       "    #T_f47189d0_2322_11eb_940b_f0038c37d4d6 th {\n",
       "          text-align: left;\n",
       "          border-width: 1px;\n",
       "          border-style: solid;\n",
       "    }    #T_f47189d0_2322_11eb_940b_f0038c37d4d6 td {\n",
       "          border-width: 1px;\n",
       "          border-style: solid;\n",
       "    }    #T_f47189d0_2322_11eb_940b_f0038c37d4d6 td {\n",
       "          text-align: center;\n",
       "    }    #T_f47189d0_2322_11eb_940b_f0038c37d4d6 tbody, thead {\n",
       "          border-style: solid;\n",
       "          border-width: 2px;\n",
       "    }</style><table id=\"T_f47189d0_2322_11eb_940b_f0038c37d4d6\" ><thead>    <tr>        <th class=\"index_name level0\" >Cecha</th>        <th class=\"col_heading level0 col0\" >Minimum</th>        <th class=\"col_heading level0 col1\" >Śr. arytm. (± odch. stand.)</th>        <th class=\"col_heading level0 col2\" >Mediana (Q1 - Q3)</th>        <th class=\"col_heading level0 col3\" >Maksimum</th>    </tr></thead><tbody>\n",
       "                <tr>\n",
       "                        <th id=\"T_f47189d0_2322_11eb_940b_f0038c37d4d6level0_row0\" class=\"row_heading level0 row0\" >Długość działki kielicha (cm)</th>\n",
       "                        <td id=\"T_f47189d0_2322_11eb_940b_f0038c37d4d6row0_col0\" class=\"data row0 col0\" >4,3</td>\n",
       "                        <td id=\"T_f47189d0_2322_11eb_940b_f0038c37d4d6row0_col1\" class=\"data row0 col1\" >5,84 (±0,83)</td>\n",
       "                        <td id=\"T_f47189d0_2322_11eb_940b_f0038c37d4d6row0_col2\" class=\"data row0 col2\" >5,80 (5,10 - 6,40)</td>\n",
       "                        <td id=\"T_f47189d0_2322_11eb_940b_f0038c37d4d6row0_col3\" class=\"data row0 col3\" >7,9</td>\n",
       "            </tr>\n",
       "            <tr>\n",
       "                        <th id=\"T_f47189d0_2322_11eb_940b_f0038c37d4d6level0_row1\" class=\"row_heading level0 row1\" >Szerokość działki kielicha (cm)</th>\n",
       "                        <td id=\"T_f47189d0_2322_11eb_940b_f0038c37d4d6row1_col0\" class=\"data row1 col0\" >2,0</td>\n",
       "                        <td id=\"T_f47189d0_2322_11eb_940b_f0038c37d4d6row1_col1\" class=\"data row1 col1\" >3,06 (±0,44)</td>\n",
       "                        <td id=\"T_f47189d0_2322_11eb_940b_f0038c37d4d6row1_col2\" class=\"data row1 col2\" >3,00 (2,80 - 3,30)</td>\n",
       "                        <td id=\"T_f47189d0_2322_11eb_940b_f0038c37d4d6row1_col3\" class=\"data row1 col3\" >4,4</td>\n",
       "            </tr>\n",
       "            <tr>\n",
       "                        <th id=\"T_f47189d0_2322_11eb_940b_f0038c37d4d6level0_row2\" class=\"row_heading level0 row2\" >Długość płatka (cm)</th>\n",
       "                        <td id=\"T_f47189d0_2322_11eb_940b_f0038c37d4d6row2_col0\" class=\"data row2 col0\" >1,0</td>\n",
       "                        <td id=\"T_f47189d0_2322_11eb_940b_f0038c37d4d6row2_col1\" class=\"data row2 col1\" >3,76 (±1,77)</td>\n",
       "                        <td id=\"T_f47189d0_2322_11eb_940b_f0038c37d4d6row2_col2\" class=\"data row2 col2\" >4,35 (1,60 - 5,10)</td>\n",
       "                        <td id=\"T_f47189d0_2322_11eb_940b_f0038c37d4d6row2_col3\" class=\"data row2 col3\" >6,9</td>\n",
       "            </tr>\n",
       "            <tr>\n",
       "                        <th id=\"T_f47189d0_2322_11eb_940b_f0038c37d4d6level0_row3\" class=\"row_heading level0 row3\" >Szerokość płatka (cm)</th>\n",
       "                        <td id=\"T_f47189d0_2322_11eb_940b_f0038c37d4d6row3_col0\" class=\"data row3 col0\" >0,1</td>\n",
       "                        <td id=\"T_f47189d0_2322_11eb_940b_f0038c37d4d6row3_col1\" class=\"data row3 col1\" >1,20 (±0,76)</td>\n",
       "                        <td id=\"T_f47189d0_2322_11eb_940b_f0038c37d4d6row3_col2\" class=\"data row3 col2\" >1,30 (0,30 - 1,80)</td>\n",
       "                        <td id=\"T_f47189d0_2322_11eb_940b_f0038c37d4d6row3_col3\" class=\"data row3 col3\" >2,5</td>\n",
       "            </tr>\n",
       "    </tbody></table>"
      ],
      "text/plain": [
       "<pandas.io.formats.style.Styler at 0x228a5597850>"
      ]
     },
     "execution_count": 46,
     "metadata": {},
     "output_type": "execute_result"
    }
   ],
   "source": [
    "charactDataFrameStyled"
   ]
  },
  {
   "cell_type": "code",
   "execution_count": 47,
   "metadata": {},
   "outputs": [],
   "source": [
    "#Podsumowanie:"
   ]
  },
  {
   "cell_type": "code",
   "execution_count": 48,
   "metadata": {},
   "outputs": [
    {
     "data": {
      "text/html": [
       "<style  type=\"text/css\" >\n",
       "    #T_f4880aff_2322_11eb_bdc8_f0038c37d4d6 tr:last-child {\n",
       "          border-top-style: solid;\n",
       "    }    #T_f4880aff_2322_11eb_bdc8_f0038c37d4d6 th {\n",
       "          text-align: left;\n",
       "          border-width: 1px;\n",
       "          border-style: solid;\n",
       "    }    #T_f4880aff_2322_11eb_bdc8_f0038c37d4d6 td {\n",
       "          border-width: 1px;\n",
       "          border-style: solid;\n",
       "    }    #T_f4880aff_2322_11eb_bdc8_f0038c37d4d6 tbody, thead {\n",
       "          border-style: solid;\n",
       "          border-width: 2px;\n",
       "    }</style><table id=\"T_f4880aff_2322_11eb_bdc8_f0038c37d4d6\" ><thead>    <tr>        <th class=\"index_name level0\" >Gatunek</th>        <th class=\"col_heading level0 col0\" >Liczebność (%)</th>    </tr></thead><tbody>\n",
       "                <tr>\n",
       "                        <th id=\"T_f4880aff_2322_11eb_bdc8_f0038c37d4d6level0_row0\" class=\"row_heading level0 row0\" >setosa</th>\n",
       "                        <td id=\"T_f4880aff_2322_11eb_bdc8_f0038c37d4d6row0_col0\" class=\"data row0 col0\" >50 (33,3%)</td>\n",
       "            </tr>\n",
       "            <tr>\n",
       "                        <th id=\"T_f4880aff_2322_11eb_bdc8_f0038c37d4d6level0_row1\" class=\"row_heading level0 row1\" >versicolor</th>\n",
       "                        <td id=\"T_f4880aff_2322_11eb_bdc8_f0038c37d4d6row1_col0\" class=\"data row1 col0\" >50 (33,3%)</td>\n",
       "            </tr>\n",
       "            <tr>\n",
       "                        <th id=\"T_f4880aff_2322_11eb_bdc8_f0038c37d4d6level0_row2\" class=\"row_heading level0 row2\" >virginica</th>\n",
       "                        <td id=\"T_f4880aff_2322_11eb_bdc8_f0038c37d4d6row2_col0\" class=\"data row2 col0\" >50 (33,3%)</td>\n",
       "            </tr>\n",
       "            <tr>\n",
       "                        <th id=\"T_f4880aff_2322_11eb_bdc8_f0038c37d4d6level0_row3\" class=\"row_heading level0 row3\" >Razem</th>\n",
       "                        <td id=\"T_f4880aff_2322_11eb_bdc8_f0038c37d4d6row3_col0\" class=\"data row3 col0\" >150 (100,0%)</td>\n",
       "            </tr>\n",
       "    </tbody></table>"
      ],
      "text/plain": [
       "<pandas.io.formats.style.Styler at 0x228a45552b0>"
      ]
     },
     "execution_count": 48,
     "metadata": {},
     "output_type": "execute_result"
    }
   ],
   "source": [
    "countDataFrameStyled"
   ]
  },
  {
   "cell_type": "code",
   "execution_count": 49,
   "metadata": {},
   "outputs": [
    {
     "data": {
      "text/html": [
       "<style  type=\"text/css\" >\n",
       "    #T_f494e5f7_2322_11eb_87bf_f0038c37d4d6 th {\n",
       "          text-align: left;\n",
       "          border-width: 1px;\n",
       "          border-style: solid;\n",
       "    }    #T_f494e5f7_2322_11eb_87bf_f0038c37d4d6 td {\n",
       "          border-width: 1px;\n",
       "          border-style: solid;\n",
       "    }    #T_f494e5f7_2322_11eb_87bf_f0038c37d4d6 td {\n",
       "          text-align: center;\n",
       "    }    #T_f494e5f7_2322_11eb_87bf_f0038c37d4d6 tbody, thead {\n",
       "          border-style: solid;\n",
       "          border-width: 2px;\n",
       "    }</style><table id=\"T_f494e5f7_2322_11eb_87bf_f0038c37d4d6\" ><thead>    <tr>        <th class=\"index_name level0\" >Cecha</th>        <th class=\"col_heading level0 col0\" >Minimum</th>        <th class=\"col_heading level0 col1\" >Śr. arytm. (± odch. stand.)</th>        <th class=\"col_heading level0 col2\" >Mediana (Q1 - Q3)</th>        <th class=\"col_heading level0 col3\" >Maksimum</th>    </tr></thead><tbody>\n",
       "                <tr>\n",
       "                        <th id=\"T_f494e5f7_2322_11eb_87bf_f0038c37d4d6level0_row0\" class=\"row_heading level0 row0\" >Długość działki kielicha (cm)</th>\n",
       "                        <td id=\"T_f494e5f7_2322_11eb_87bf_f0038c37d4d6row0_col0\" class=\"data row0 col0\" >4,3</td>\n",
       "                        <td id=\"T_f494e5f7_2322_11eb_87bf_f0038c37d4d6row0_col1\" class=\"data row0 col1\" >5,84 (±0,83)</td>\n",
       "                        <td id=\"T_f494e5f7_2322_11eb_87bf_f0038c37d4d6row0_col2\" class=\"data row0 col2\" >5,80 (5,10 - 6,40)</td>\n",
       "                        <td id=\"T_f494e5f7_2322_11eb_87bf_f0038c37d4d6row0_col3\" class=\"data row0 col3\" >7,9</td>\n",
       "            </tr>\n",
       "            <tr>\n",
       "                        <th id=\"T_f494e5f7_2322_11eb_87bf_f0038c37d4d6level0_row1\" class=\"row_heading level0 row1\" >Szerokość działki kielicha (cm)</th>\n",
       "                        <td id=\"T_f494e5f7_2322_11eb_87bf_f0038c37d4d6row1_col0\" class=\"data row1 col0\" >2,0</td>\n",
       "                        <td id=\"T_f494e5f7_2322_11eb_87bf_f0038c37d4d6row1_col1\" class=\"data row1 col1\" >3,06 (±0,44)</td>\n",
       "                        <td id=\"T_f494e5f7_2322_11eb_87bf_f0038c37d4d6row1_col2\" class=\"data row1 col2\" >3,00 (2,80 - 3,30)</td>\n",
       "                        <td id=\"T_f494e5f7_2322_11eb_87bf_f0038c37d4d6row1_col3\" class=\"data row1 col3\" >4,4</td>\n",
       "            </tr>\n",
       "            <tr>\n",
       "                        <th id=\"T_f494e5f7_2322_11eb_87bf_f0038c37d4d6level0_row2\" class=\"row_heading level0 row2\" >Długość płatka (cm)</th>\n",
       "                        <td id=\"T_f494e5f7_2322_11eb_87bf_f0038c37d4d6row2_col0\" class=\"data row2 col0\" >1,0</td>\n",
       "                        <td id=\"T_f494e5f7_2322_11eb_87bf_f0038c37d4d6row2_col1\" class=\"data row2 col1\" >3,76 (±1,77)</td>\n",
       "                        <td id=\"T_f494e5f7_2322_11eb_87bf_f0038c37d4d6row2_col2\" class=\"data row2 col2\" >4,35 (1,60 - 5,10)</td>\n",
       "                        <td id=\"T_f494e5f7_2322_11eb_87bf_f0038c37d4d6row2_col3\" class=\"data row2 col3\" >6,9</td>\n",
       "            </tr>\n",
       "            <tr>\n",
       "                        <th id=\"T_f494e5f7_2322_11eb_87bf_f0038c37d4d6level0_row3\" class=\"row_heading level0 row3\" >Szerokość płatka (cm)</th>\n",
       "                        <td id=\"T_f494e5f7_2322_11eb_87bf_f0038c37d4d6row3_col0\" class=\"data row3 col0\" >0,1</td>\n",
       "                        <td id=\"T_f494e5f7_2322_11eb_87bf_f0038c37d4d6row3_col1\" class=\"data row3 col1\" >1,20 (±0,76)</td>\n",
       "                        <td id=\"T_f494e5f7_2322_11eb_87bf_f0038c37d4d6row3_col2\" class=\"data row3 col2\" >1,30 (0,30 - 1,80)</td>\n",
       "                        <td id=\"T_f494e5f7_2322_11eb_87bf_f0038c37d4d6row3_col3\" class=\"data row3 col3\" >2,5</td>\n",
       "            </tr>\n",
       "    </tbody></table>"
      ],
      "text/plain": [
       "<pandas.io.formats.style.Styler at 0x228a5597850>"
      ]
     },
     "execution_count": 49,
     "metadata": {},
     "output_type": "execute_result"
    }
   ],
   "source": [
    "charactDataFrameStyled"
   ]
  }
 ],
 "metadata": {
  "kernelspec": {
   "display_name": "Python 3",
   "language": "python",
   "name": "python3"
  },
  "language_info": {
   "codemirror_mode": {
    "name": "ipython",
    "version": 3
   },
   "file_extension": ".py",
   "mimetype": "text/x-python",
   "name": "python",
   "nbconvert_exporter": "python",
   "pygments_lexer": "ipython3",
   "version": "3.8.3"
  }
 },
 "nbformat": 4,
 "nbformat_minor": 4
}
